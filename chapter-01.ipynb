{
 "cells": [
  {
   "cell_type": "markdown",
   "metadata": {},
   "source": [
    "# Chapter 1: Python Basics\n",
    "- Entering Expressions into the Interactive Shell\n",
    "- The Integer, Floating-Point, and String Data Types\n",
    "- String Concatenation and Replication\n",
    "- Storing Values in Variables\n",
    "  - Assignment Statements\n",
    "  - Variable Names\n",
    "- Your First Program\n",
    "- Dissecting Your Program\n",
    "  - Comments\n",
    "  - The print() Function\n",
    "  - The input() Function\n",
    "  - Printing the User's Name\n",
    "  - The len() Function\n",
    "  - The str(), int(), and float() Functions\n",
    "- Summary\n",
    "- Practice Questions"
   ]
  },
  {
   "cell_type": "markdown",
   "metadata": {},
   "source": []
  }
 ],
 "metadata": {
  "language_info": {
   "name": "python"
  }
 },
 "nbformat": 4,
 "nbformat_minor": 2
}
